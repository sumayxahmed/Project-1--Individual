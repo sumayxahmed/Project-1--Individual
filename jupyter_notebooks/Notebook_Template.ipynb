{
  "cells": [
    {
      "cell_type": "markdown",
      "metadata": {
        "id": "0aStgWSO0E0E"
      },
      "source": [
        "# **Health Insurance Datab**"
      ]
    },
    {
      "cell_type": "markdown",
      "metadata": {
        "id": "1eLEkw5O0ECa"
      },
      "source": [
        "## Objectives\n",
        "\n",
        "* Identify which variables most affect insurance charges using exploratory data analysis and visualization.\n",
        "* Compare insurance charges between smokers and non-smokers to determine the impact of smoking status.\n",
        "* Analyse the relationship between BMI and insurance charges by grouping BMI and visualizing average charges.\n",
        "* Utilise both interactive (Plotly) and static (Matplotlib) visualizations to effectively communicate findings.\n",
        "\n",
        "## Inputs\n",
        "\n",
        "* The cleaned insurance data file: cleaned_insurance.csv (located in the data folder)\n",
        "Python libraries: pandas, matplotlib, and plotly\n",
        "Columns required: age, sex, bmi, children, smoker, region, and charges \n",
        "\n",
        "## Outputs\n",
        "\n",
        " Visualizations:\n",
        "- An interactive Plotly scatter plot (BMI vs Charges, colored by smoker status)\n",
        "- A Matplotlib boxplot (Charges by smoker status)\n",
        "- A Matplotlib bar plot (Average charges by BMI group)\n",
        "+ Cleaned data file: cleaned_insurance.csv \n",
        "+ Summary statistics and insights from the exploratory data analysis"
      ]
    },
    {
      "cell_type": "markdown",
      "metadata": {
        "id": "9uWZXH9LwoQg"
      },
      "source": [
        "---"
      ]
    },
    {
      "cell_type": "markdown",
      "metadata": {
        "id": "cqP-UeN-z3i2"
      },
      "source": [
        "# Change working directory"
      ]
    },
    {
      "cell_type": "markdown",
      "metadata": {},
      "source": [
        "* We are assuming you will store the notebooks in a subfolder, therefore when running the notebook in the editor, you will need to change the working directory"
      ]
    },
    {
      "cell_type": "markdown",
      "metadata": {
        "id": "aOGIGS-uz3i2"
      },
      "source": [
        "We need to change the working directory from its current folder to its parent folder\n",
        "* We access the current directory with os.getcwd()"
      ]
    },
    {
      "cell_type": "code",
      "execution_count": 1,
      "metadata": {
        "id": "wZfF_j-Bz3i4",
        "outputId": "66943449-1436-4c3d-85c7-b85f9f78349b"
      },
      "outputs": [
        {
          "data": {
            "text/plain": [
              "'c:\\\\Users\\\\Student\\\\OneDrive\\\\Documents\\\\VS code projects\\\\Individual P\\\\Project-1--Individual\\\\jupyter_notebooks'"
            ]
          },
          "execution_count": 1,
          "metadata": {},
          "output_type": "execute_result"
        }
      ],
      "source": [
        "import os\n",
        "current_dir = os.getcwd()\n",
        "current_dir"
      ]
    },
    {
      "cell_type": "markdown",
      "metadata": {
        "id": "9MWW8E7lz3i7"
      },
      "source": [
        "We want to make the parent of the current directory the new current directory\n",
        "* os.path.dirname() gets the parent directory\n",
        "* os.chir() defines the new current directory"
      ]
    },
    {
      "cell_type": "code",
      "execution_count": 2,
      "metadata": {
        "id": "TwHsQRWjz3i9",
        "outputId": "86849db3-cd2f-4cc5-ebb8-2d0caafa1a2c"
      },
      "outputs": [
        {
          "name": "stdout",
          "output_type": "stream",
          "text": [
            "You set a new current directory\n"
          ]
        }
      ],
      "source": [
        "os.chdir(os.path.dirname(current_dir))\n",
        "print(\"You set a new current directory\")"
      ]
    },
    {
      "cell_type": "markdown",
      "metadata": {
        "id": "M_xPk_Ijz3i-"
      },
      "source": [
        "Confirm the new current directory"
      ]
    },
    {
      "cell_type": "code",
      "execution_count": 3,
      "metadata": {
        "id": "vz3S-_kjz3jA",
        "outputId": "00b79ae4-75d0-4a96-d193-ac9ef9847ea2"
      },
      "outputs": [
        {
          "data": {
            "text/plain": [
              "'c:\\\\Users\\\\Student\\\\OneDrive\\\\Documents\\\\VS code projects\\\\Individual P\\\\Project-1--Individual'"
            ]
          },
          "execution_count": 3,
          "metadata": {},
          "output_type": "execute_result"
        }
      ],
      "source": [
        "current_dir = os.getcwd()\n",
        "current_dir"
      ]
    },
    {
      "cell_type": "markdown",
      "metadata": {
        "id": "-mavJ8DibrcQ"
      },
      "source": [
        "# Section 1\\- Extracting Data"
      ]
    },
    {
      "cell_type": "markdown",
      "metadata": {},
      "source": [
        "Section 1 content\n",
        "- Imported the necessary Python libraries for data analysis and visualization: pandas, NumPy, matplotlib, seaborn, and plotly.\n",
        "- Loaded the insurance dataset from the data folder.\n",
        "- Displayed the first few rows to get an initial sense of the dataset’s structure.\n",
        "- Used .info() to review column data types and check for missing values.\n",
        "- Applied .describe() to generate summary statistics for the numerical variables.\n",
        "\n",
        "\n",
        "Import the packages"
      ]
    },
    {
      "cell_type": "code",
      "execution_count": 4,
      "metadata": {},
      "outputs": [],
      "source": [
        "import pandas as pd\n",
        "import numpy as np\n",
        "import matplotlib.pyplot as plt\n",
        "import seaborn as sns\n",
        "import plotly.express as px"
      ]
    },
    {
      "cell_type": "markdown",
      "metadata": {
        "id": "ZY3l0-AxO93d"
      },
      "source": [
        "Extract the data "
      ]
    },
    {
      "cell_type": "code",
      "execution_count": null,
      "metadata": {},
      "outputs": [
        {
          "data": {
            "text/html": [
              "<div>\n",
              "<style scoped>\n",
              "    .dataframe tbody tr th:only-of-type {\n",
              "        vertical-align: middle;\n",
              "    }\n",
              "\n",
              "    .dataframe tbody tr th {\n",
              "        vertical-align: top;\n",
              "    }\n",
              "\n",
              "    .dataframe thead th {\n",
              "        text-align: right;\n",
              "    }\n",
              "</style>\n",
              "<table border=\"1\" class=\"dataframe\">\n",
              "  <thead>\n",
              "    <tr style=\"text-align: right;\">\n",
              "      <th></th>\n",
              "      <th>age</th>\n",
              "      <th>sex</th>\n",
              "      <th>bmi</th>\n",
              "      <th>children</th>\n",
              "      <th>smoker</th>\n",
              "      <th>charges</th>\n",
              "      <th>region_northwest</th>\n",
              "      <th>region_southeast</th>\n",
              "      <th>region_southwest</th>\n",
              "      <th>bmi_category</th>\n",
              "    </tr>\n",
              "  </thead>\n",
              "  <tbody>\n",
              "    <tr>\n",
              "      <th>0</th>\n",
              "      <td>19</td>\n",
              "      <td>1</td>\n",
              "      <td>27.900</td>\n",
              "      <td>0</td>\n",
              "      <td>1</td>\n",
              "      <td>16884.92400</td>\n",
              "      <td>False</td>\n",
              "      <td>False</td>\n",
              "      <td>True</td>\n",
              "      <td>Overweight</td>\n",
              "    </tr>\n",
              "    <tr>\n",
              "      <th>1</th>\n",
              "      <td>18</td>\n",
              "      <td>0</td>\n",
              "      <td>33.770</td>\n",
              "      <td>1</td>\n",
              "      <td>0</td>\n",
              "      <td>1725.55230</td>\n",
              "      <td>False</td>\n",
              "      <td>True</td>\n",
              "      <td>False</td>\n",
              "      <td>Obese</td>\n",
              "    </tr>\n",
              "    <tr>\n",
              "      <th>2</th>\n",
              "      <td>28</td>\n",
              "      <td>0</td>\n",
              "      <td>33.000</td>\n",
              "      <td>3</td>\n",
              "      <td>0</td>\n",
              "      <td>4449.46200</td>\n",
              "      <td>False</td>\n",
              "      <td>True</td>\n",
              "      <td>False</td>\n",
              "      <td>Obese</td>\n",
              "    </tr>\n",
              "    <tr>\n",
              "      <th>3</th>\n",
              "      <td>33</td>\n",
              "      <td>0</td>\n",
              "      <td>22.705</td>\n",
              "      <td>0</td>\n",
              "      <td>0</td>\n",
              "      <td>21984.47061</td>\n",
              "      <td>True</td>\n",
              "      <td>False</td>\n",
              "      <td>False</td>\n",
              "      <td>Normal</td>\n",
              "    </tr>\n",
              "    <tr>\n",
              "      <th>4</th>\n",
              "      <td>32</td>\n",
              "      <td>0</td>\n",
              "      <td>28.880</td>\n",
              "      <td>0</td>\n",
              "      <td>0</td>\n",
              "      <td>3866.85520</td>\n",
              "      <td>True</td>\n",
              "      <td>False</td>\n",
              "      <td>False</td>\n",
              "      <td>Overweight</td>\n",
              "    </tr>\n",
              "  </tbody>\n",
              "</table>\n",
              "</div>"
            ],
            "text/plain": [
              "   age  sex     bmi  children  smoker      charges  region_northwest  \\\n",
              "0   19    1  27.900         0       1  16884.92400             False   \n",
              "1   18    0  33.770         1       0   1725.55230             False   \n",
              "2   28    0  33.000         3       0   4449.46200             False   \n",
              "3   33    0  22.705         0       0  21984.47061              True   \n",
              "4   32    0  28.880         0       0   3866.85520              True   \n",
              "\n",
              "   region_southeast  region_southwest bmi_category  \n",
              "0             False              True   Overweight  \n",
              "1              True             False        Obese  \n",
              "2              True             False        Obese  \n",
              "3             False             False       Normal  \n",
              "4             False             False   Overweight  "
            ]
          },
          "execution_count": 9,
          "metadata": {},
          "output_type": "execute_result"
        }
      ],
      "source": [
        "\n",
        "\n",
        "df = pd.read_csv('data/cleaned_insurance.csv')\n",
        "df.head()"
      ]
    },
    {
      "cell_type": "markdown",
      "metadata": {},
      "source": [
        "Reviewed the dataset’s structure and key attributes to understand its overall composition."
      ]
    },
    {
      "cell_type": "code",
      "execution_count": 10,
      "metadata": {},
      "outputs": [
        {
          "name": "stdout",
          "output_type": "stream",
          "text": [
            "<class 'pandas.core.frame.DataFrame'>\n",
            "RangeIndex: 1337 entries, 0 to 1336\n",
            "Data columns (total 10 columns):\n",
            " #   Column            Non-Null Count  Dtype  \n",
            "---  ------            --------------  -----  \n",
            " 0   age               1337 non-null   int64  \n",
            " 1   sex               1337 non-null   int64  \n",
            " 2   bmi               1337 non-null   float64\n",
            " 3   children          1337 non-null   int64  \n",
            " 4   smoker            1337 non-null   int64  \n",
            " 5   charges           1337 non-null   float64\n",
            " 6   region_northwest  1337 non-null   bool   \n",
            " 7   region_southeast  1337 non-null   bool   \n",
            " 8   region_southwest  1337 non-null   bool   \n",
            " 9   bmi_category      1337 non-null   object \n",
            "dtypes: bool(3), float64(2), int64(4), object(1)\n",
            "memory usage: 77.2+ KB\n"
          ]
        }
      ],
      "source": [
        "df.info()"
      ]
    },
    {
      "cell_type": "code",
      "execution_count": 11,
      "metadata": {},
      "outputs": [
        {
          "data": {
            "text/html": [
              "<div>\n",
              "<style scoped>\n",
              "    .dataframe tbody tr th:only-of-type {\n",
              "        vertical-align: middle;\n",
              "    }\n",
              "\n",
              "    .dataframe tbody tr th {\n",
              "        vertical-align: top;\n",
              "    }\n",
              "\n",
              "    .dataframe thead th {\n",
              "        text-align: right;\n",
              "    }\n",
              "</style>\n",
              "<table border=\"1\" class=\"dataframe\">\n",
              "  <thead>\n",
              "    <tr style=\"text-align: right;\">\n",
              "      <th></th>\n",
              "      <th>age</th>\n",
              "      <th>sex</th>\n",
              "      <th>bmi</th>\n",
              "      <th>children</th>\n",
              "      <th>smoker</th>\n",
              "      <th>charges</th>\n",
              "    </tr>\n",
              "  </thead>\n",
              "  <tbody>\n",
              "    <tr>\n",
              "      <th>count</th>\n",
              "      <td>1337.000000</td>\n",
              "      <td>1337.000000</td>\n",
              "      <td>1337.000000</td>\n",
              "      <td>1337.000000</td>\n",
              "      <td>1337.000000</td>\n",
              "      <td>1337.000000</td>\n",
              "    </tr>\n",
              "    <tr>\n",
              "      <th>mean</th>\n",
              "      <td>39.222139</td>\n",
              "      <td>0.495138</td>\n",
              "      <td>30.663452</td>\n",
              "      <td>1.095737</td>\n",
              "      <td>0.204936</td>\n",
              "      <td>13279.121487</td>\n",
              "    </tr>\n",
              "    <tr>\n",
              "      <th>std</th>\n",
              "      <td>14.044333</td>\n",
              "      <td>0.500163</td>\n",
              "      <td>6.100468</td>\n",
              "      <td>1.205571</td>\n",
              "      <td>0.403806</td>\n",
              "      <td>12110.359656</td>\n",
              "    </tr>\n",
              "    <tr>\n",
              "      <th>min</th>\n",
              "      <td>18.000000</td>\n",
              "      <td>0.000000</td>\n",
              "      <td>15.960000</td>\n",
              "      <td>0.000000</td>\n",
              "      <td>0.000000</td>\n",
              "      <td>1121.873900</td>\n",
              "    </tr>\n",
              "    <tr>\n",
              "      <th>25%</th>\n",
              "      <td>27.000000</td>\n",
              "      <td>0.000000</td>\n",
              "      <td>26.290000</td>\n",
              "      <td>0.000000</td>\n",
              "      <td>0.000000</td>\n",
              "      <td>4746.344000</td>\n",
              "    </tr>\n",
              "    <tr>\n",
              "      <th>50%</th>\n",
              "      <td>39.000000</td>\n",
              "      <td>0.000000</td>\n",
              "      <td>30.400000</td>\n",
              "      <td>1.000000</td>\n",
              "      <td>0.000000</td>\n",
              "      <td>9386.161300</td>\n",
              "    </tr>\n",
              "    <tr>\n",
              "      <th>75%</th>\n",
              "      <td>51.000000</td>\n",
              "      <td>1.000000</td>\n",
              "      <td>34.700000</td>\n",
              "      <td>2.000000</td>\n",
              "      <td>0.000000</td>\n",
              "      <td>16657.717450</td>\n",
              "    </tr>\n",
              "    <tr>\n",
              "      <th>max</th>\n",
              "      <td>64.000000</td>\n",
              "      <td>1.000000</td>\n",
              "      <td>53.130000</td>\n",
              "      <td>5.000000</td>\n",
              "      <td>1.000000</td>\n",
              "      <td>63770.428010</td>\n",
              "    </tr>\n",
              "  </tbody>\n",
              "</table>\n",
              "</div>"
            ],
            "text/plain": [
              "               age          sex          bmi     children       smoker  \\\n",
              "count  1337.000000  1337.000000  1337.000000  1337.000000  1337.000000   \n",
              "mean     39.222139     0.495138    30.663452     1.095737     0.204936   \n",
              "std      14.044333     0.500163     6.100468     1.205571     0.403806   \n",
              "min      18.000000     0.000000    15.960000     0.000000     0.000000   \n",
              "25%      27.000000     0.000000    26.290000     0.000000     0.000000   \n",
              "50%      39.000000     0.000000    30.400000     1.000000     0.000000   \n",
              "75%      51.000000     1.000000    34.700000     2.000000     0.000000   \n",
              "max      64.000000     1.000000    53.130000     5.000000     1.000000   \n",
              "\n",
              "            charges  \n",
              "count   1337.000000  \n",
              "mean   13279.121487  \n",
              "std    12110.359656  \n",
              "min     1121.873900  \n",
              "25%     4746.344000  \n",
              "50%     9386.161300  \n",
              "75%    16657.717450  \n",
              "max    63770.428010  "
            ]
          },
          "execution_count": 11,
          "metadata": {},
          "output_type": "execute_result"
        }
      ],
      "source": [
        "df.describe()"
      ]
    },
    {
      "cell_type": "markdown",
      "metadata": {
        "id": "uFQo3ycuO-v6"
      },
      "source": [
        "# Section 2\\- Transforming Data"
      ]
    },
    {
      "cell_type": "markdown",
      "metadata": {},
      "source": [
        "In this section, I carried out data cleaning and preparation steps:\n",
        "\n",
        "- Verified the absence of missing values using .isnull().sum().\n",
        "- Identify and removing duplicate records to ensure data quality if necessary \n",
        "\n",
        "Check for any missing data."
      ]
    },
    {
      "cell_type": "code",
      "execution_count": 12,
      "metadata": {},
      "outputs": [
        {
          "data": {
            "text/plain": [
              "age                 0\n",
              "sex                 0\n",
              "bmi                 0\n",
              "children            0\n",
              "smoker              0\n",
              "charges             0\n",
              "region_northwest    0\n",
              "region_southeast    0\n",
              "region_southwest    0\n",
              "bmi_category        0\n",
              "dtype: int64"
            ]
          },
          "execution_count": 12,
          "metadata": {},
          "output_type": "execute_result"
        }
      ],
      "source": [
        "df.isnull().sum()"
      ]
    },
    {
      "cell_type": "markdown",
      "metadata": {},
      "source": [
        "There are no missing values in the dataset.\n",
        "\n",
        "\n",
        "Check for duplicate rows"
      ]
    },
    {
      "cell_type": "code",
      "execution_count": 13,
      "metadata": {},
      "outputs": [
        {
          "data": {
            "text/plain": [
              "np.int64(0)"
            ]
          },
          "execution_count": 13,
          "metadata": {},
          "output_type": "execute_result"
        }
      ],
      "source": [
        "df.duplicated().sum()"
      ]
    },
    {
      "cell_type": "markdown",
      "metadata": {},
      "source": [
        "No duplications in the dataset"
      ]
    },
    {
      "cell_type": "markdown",
      "metadata": {},
      "source": []
    },
    {
      "cell_type": "markdown",
      "metadata": {},
      "source": [
        "---"
      ]
    },
    {
      "cell_type": "markdown",
      "metadata": {},
      "source": [
        "# Section 3 \\- Data Visualisation"
      ]
    },
    {
      "cell_type": "markdown",
      "metadata": {},
      "source": [
        "In this section, I have explored the insurance dataset using various data visualisation techniques. The visualisations help identify patterns and relationships between key variables such as charges, BMI, age, and smoking status. By comparing groups such as smokers versus non-smokers and analysing how different factors influence insurance charges, I gain deeper insights into the data and highlight important trends."
      ]
    },
    {
      "cell_type": "markdown",
      "metadata": {},
      "source": [
        "### 1. Does BMI relate to insurance charges, and does smoking status affect this relationship "
      ]
    },
    {
      "cell_type": "markdown",
      "metadata": {},
      "source": [
        "To investigate this, I used an interactive Plotly scatter plot to visualise the relationship between BMI and insurance charges, with points coloured by smoking status. This allowed me to observe how charges vary with BMI and whether there are noticeable differences between smokers and non-smokers."
      ]
    },
    {
      "cell_type": "code",
      "execution_count": 14,
      "metadata": {},
      "outputs": [
        {
          "data": {
            "application/vnd.plotly.v1+json": {
              "config": {
                "plotlyServerURL": "https://plot.ly"
              },
              "data": [
                {
                  "hovertemplate": "BMI=%{x}<br>Insurance Charges=%{y}<br>Smoker=%{marker.color}<extra></extra>",
                  "legendgroup": "",
                  "marker": {
                    "color": {
                      "bdata": "AQAAAAAAAAAAAAABAAABAAAAAAEAAAABAAAAAAABAQAAAAEAAAABAQAAAAAAAAAAAAEAAAEBAAEAAQEAAAAAAAEAAAAAAQEAAAAAAAAAAAAAAAEAAQEBAAAAAAABAAEAAAABAQAAAAEAAQAAAAEAAAAAAAAAAQAAAAAAAQAAAQABAAAAAAAAAAAAAAAAAAEAAQABAAAAAAAAAQAAAQEBAAEBAAAAAAAAAAAAAAAAAAEAAAAAAAAAAAABAAAAAAAAAAAAAAAAAAAAAAABAAAAAQAAAAAAAAAAAAAAAAAAAAEBAAAAAAAAAAAAAAEAAAEAAQAAAAEAAAAAAAEBAQABAAEAAAEAAQEBAAEBAAAAAAEAAAAAAAAAAAEBAAAAAAAAAQAAAAEAAAABAQEAAAEAAAAAAAAAAAAAAQABAAAAAAAAAAEAAAAAAQEAAQEAAAAAAAABAAAAAAAAAAAAAAAAAAAAAAAAAAAAAAABAAAAAAAAAAAAAAEAAQEBAAABAQAAAAAAAAAAAAAAAAAAAAAAAAAAAAAAAAAAAAAAAQEAAAAAAQABAQEBAAAAAAAAAAAAAAAAAAAAAAAAAQAAAQAAAAAAAAAAAAAAAAAAAAABAAAAAQAAAAAAAAAAAQEBAAAAAAAAAAAAAAABAAAAAAABAAAAAAABAAEBAAAAAAAAAAAAAAEAAAAAAAAAAAABAAAAAAABAAAAAAAAAAAAAAAAAQABAAAAAQAAAAAAAAAAAQAAAAAAAAAAAAABAAAAAAAAAAEAAAAAAAAAAAEAAAAAAAEAAAAAAAAAAAAAAQAAAQABAAAAAAABAAEBAAABAAEAAAAAAAEAAAAAAAAAAAEAAAEAAAAAAAAAAAAAAAAAAQAAAAAAAAAAAQEAAQEAAAAAAAEAAAEAAAAAAQAAAAAAAAEAAAAAAAAAAQAAAAAAAAAAAQAAAAAAAAAAAAAAAAAAAAAAAAEAAQAAAQAAAAAAAQABAQABAQAAAAAAAAABAAAAAAAAAQABAAABAAAAAAAAAAAAAAEAAAAAAAABAAABAAAAAAAAAAAAAQABAAAAAQAAAAEAAAAAAAAAAAAAAAAAAAEBAAAAAAAAAQEBAAAAAAAAAAAAAAAAAAEBAAEAAAAAAQABAAEAAQEAAAEAAAAAAAAAAAAAAAAAAAAAAAAAAAAAAQABAQAAAAEAAAEAAAEAAAAAAQAAAAAAAAABAAEAAAAAAQEAAAAAAAAAAAAAAAAAAAAAAAAAAAAAAAAAAAAAAAEAAQABAAEBAAEAAQAAAAAAAAABAAAAAAAAAAABAAAAAAAAAQAAAAAAAAEAAAAAAQAAAAAAAQEAAAAAAAEAAAABAAAAAAAAAAAAAQEAAAABAAAAAQEAAQAAAQEAAAEAAQAAAQABAAEAAAABAAAAAAAAAAABAAAAAAAAAAEAAAAAAAAAAQAAAAAAAAEAAAAAAQAAAQAAAQAAAAEAAAAAAAAAAAAAAQEAAAAAAQEAAQABAAEAAAAAAAAAAAAAAAAAAAEAAAAAAAABAAAAAAABAAAAAQAAAAAAAAAAAAAAAAABAQAAAAABAAABAAAAAAEAAQABAAAAAAAAAAEAAAAAAAAAAQAAAQEAAAAAAAAAAAABAAAAAAEAAAAAAAABAQAAAAAAAAAAAQEAAAAAAAAAAQEAAQAAAAAAAAAAAAAAAAEAAQAAAAAAAAEAAAABAAABAQABAAAAAQAAAQAAAAAAAAAAAQEAAQEAAQEBAAAAAAEBAAAAAAAAAQABAAAAAAAAAAAAAAAAAAE=",
                      "dtype": "i1"
                    },
                    "coloraxis": "coloraxis",
                    "symbol": "circle"
                  },
                  "mode": "markers",
                  "name": "",
                  "showlegend": false,
                  "type": "scattergl",
                  "x": {
                    "bdata": "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",
                    "dtype": "f8"
                  },
                  "xaxis": "x",
                  "y": {
                    "bdata": "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",
                    "dtype": "f8"
                  },
                  "yaxis": "y"
                }
              ],
              "layout": {
                "coloraxis": {
                  "colorbar": {
                    "title": {
                      "text": "Smoker"
                    }
                  },
                  "colorscale": [
                    [
                      0,
                      "#0d0887"
                    ],
                    [
                      0.1111111111111111,
                      "#46039f"
                    ],
                    [
                      0.2222222222222222,
                      "#7201a8"
                    ],
                    [
                      0.3333333333333333,
                      "#9c179e"
                    ],
                    [
                      0.4444444444444444,
                      "#bd3786"
                    ],
                    [
                      0.5555555555555556,
                      "#d8576b"
                    ],
                    [
                      0.6666666666666666,
                      "#ed7953"
                    ],
                    [
                      0.7777777777777778,
                      "#fb9f3a"
                    ],
                    [
                      0.8888888888888888,
                      "#fdca26"
                    ],
                    [
                      1,
                      "#f0f921"
                    ]
                  ]
                },
                "legend": {
                  "tracegroupgap": 0
                },
                "template": {
                  "data": {
                    "bar": [
                      {
                        "error_x": {
                          "color": "#2a3f5f"
                        },
                        "error_y": {
                          "color": "#2a3f5f"
                        },
                        "marker": {
                          "line": {
                            "color": "#E5ECF6",
                            "width": 0.5
                          },
                          "pattern": {
                            "fillmode": "overlay",
                            "size": 10,
                            "solidity": 0.2
                          }
                        },
                        "type": "bar"
                      }
                    ],
                    "barpolar": [
                      {
                        "marker": {
                          "line": {
                            "color": "#E5ECF6",
                            "width": 0.5
                          },
                          "pattern": {
                            "fillmode": "overlay",
                            "size": 10,
                            "solidity": 0.2
                          }
                        },
                        "type": "barpolar"
                      }
                    ],
                    "carpet": [
                      {
                        "aaxis": {
                          "endlinecolor": "#2a3f5f",
                          "gridcolor": "white",
                          "linecolor": "white",
                          "minorgridcolor": "white",
                          "startlinecolor": "#2a3f5f"
                        },
                        "baxis": {
                          "endlinecolor": "#2a3f5f",
                          "gridcolor": "white",
                          "linecolor": "white",
                          "minorgridcolor": "white",
                          "startlinecolor": "#2a3f5f"
                        },
                        "type": "carpet"
                      }
                    ],
                    "choropleth": [
                      {
                        "colorbar": {
                          "outlinewidth": 0,
                          "ticks": ""
                        },
                        "type": "choropleth"
                      }
                    ],
                    "contour": [
                      {
                        "colorbar": {
                          "outlinewidth": 0,
                          "ticks": ""
                        },
                        "colorscale": [
                          [
                            0,
                            "#0d0887"
                          ],
                          [
                            0.1111111111111111,
                            "#46039f"
                          ],
                          [
                            0.2222222222222222,
                            "#7201a8"
                          ],
                          [
                            0.3333333333333333,
                            "#9c179e"
                          ],
                          [
                            0.4444444444444444,
                            "#bd3786"
                          ],
                          [
                            0.5555555555555556,
                            "#d8576b"
                          ],
                          [
                            0.6666666666666666,
                            "#ed7953"
                          ],
                          [
                            0.7777777777777778,
                            "#fb9f3a"
                          ],
                          [
                            0.8888888888888888,
                            "#fdca26"
                          ],
                          [
                            1,
                            "#f0f921"
                          ]
                        ],
                        "type": "contour"
                      }
                    ],
                    "contourcarpet": [
                      {
                        "colorbar": {
                          "outlinewidth": 0,
                          "ticks": ""
                        },
                        "type": "contourcarpet"
                      }
                    ],
                    "heatmap": [
                      {
                        "colorbar": {
                          "outlinewidth": 0,
                          "ticks": ""
                        },
                        "colorscale": [
                          [
                            0,
                            "#0d0887"
                          ],
                          [
                            0.1111111111111111,
                            "#46039f"
                          ],
                          [
                            0.2222222222222222,
                            "#7201a8"
                          ],
                          [
                            0.3333333333333333,
                            "#9c179e"
                          ],
                          [
                            0.4444444444444444,
                            "#bd3786"
                          ],
                          [
                            0.5555555555555556,
                            "#d8576b"
                          ],
                          [
                            0.6666666666666666,
                            "#ed7953"
                          ],
                          [
                            0.7777777777777778,
                            "#fb9f3a"
                          ],
                          [
                            0.8888888888888888,
                            "#fdca26"
                          ],
                          [
                            1,
                            "#f0f921"
                          ]
                        ],
                        "type": "heatmap"
                      }
                    ],
                    "histogram": [
                      {
                        "marker": {
                          "pattern": {
                            "fillmode": "overlay",
                            "size": 10,
                            "solidity": 0.2
                          }
                        },
                        "type": "histogram"
                      }
                    ],
                    "histogram2d": [
                      {
                        "colorbar": {
                          "outlinewidth": 0,
                          "ticks": ""
                        },
                        "colorscale": [
                          [
                            0,
                            "#0d0887"
                          ],
                          [
                            0.1111111111111111,
                            "#46039f"
                          ],
                          [
                            0.2222222222222222,
                            "#7201a8"
                          ],
                          [
                            0.3333333333333333,
                            "#9c179e"
                          ],
                          [
                            0.4444444444444444,
                            "#bd3786"
                          ],
                          [
                            0.5555555555555556,
                            "#d8576b"
                          ],
                          [
                            0.6666666666666666,
                            "#ed7953"
                          ],
                          [
                            0.7777777777777778,
                            "#fb9f3a"
                          ],
                          [
                            0.8888888888888888,
                            "#fdca26"
                          ],
                          [
                            1,
                            "#f0f921"
                          ]
                        ],
                        "type": "histogram2d"
                      }
                    ],
                    "histogram2dcontour": [
                      {
                        "colorbar": {
                          "outlinewidth": 0,
                          "ticks": ""
                        },
                        "colorscale": [
                          [
                            0,
                            "#0d0887"
                          ],
                          [
                            0.1111111111111111,
                            "#46039f"
                          ],
                          [
                            0.2222222222222222,
                            "#7201a8"
                          ],
                          [
                            0.3333333333333333,
                            "#9c179e"
                          ],
                          [
                            0.4444444444444444,
                            "#bd3786"
                          ],
                          [
                            0.5555555555555556,
                            "#d8576b"
                          ],
                          [
                            0.6666666666666666,
                            "#ed7953"
                          ],
                          [
                            0.7777777777777778,
                            "#fb9f3a"
                          ],
                          [
                            0.8888888888888888,
                            "#fdca26"
                          ],
                          [
                            1,
                            "#f0f921"
                          ]
                        ],
                        "type": "histogram2dcontour"
                      }
                    ],
                    "mesh3d": [
                      {
                        "colorbar": {
                          "outlinewidth": 0,
                          "ticks": ""
                        },
                        "type": "mesh3d"
                      }
                    ],
                    "parcoords": [
                      {
                        "line": {
                          "colorbar": {
                            "outlinewidth": 0,
                            "ticks": ""
                          }
                        },
                        "type": "parcoords"
                      }
                    ],
                    "pie": [
                      {
                        "automargin": true,
                        "type": "pie"
                      }
                    ],
                    "scatter": [
                      {
                        "fillpattern": {
                          "fillmode": "overlay",
                          "size": 10,
                          "solidity": 0.2
                        },
                        "type": "scatter"
                      }
                    ],
                    "scatter3d": [
                      {
                        "line": {
                          "colorbar": {
                            "outlinewidth": 0,
                            "ticks": ""
                          }
                        },
                        "marker": {
                          "colorbar": {
                            "outlinewidth": 0,
                            "ticks": ""
                          }
                        },
                        "type": "scatter3d"
                      }
                    ],
                    "scattercarpet": [
                      {
                        "marker": {
                          "colorbar": {
                            "outlinewidth": 0,
                            "ticks": ""
                          }
                        },
                        "type": "scattercarpet"
                      }
                    ],
                    "scattergeo": [
                      {
                        "marker": {
                          "colorbar": {
                            "outlinewidth": 0,
                            "ticks": ""
                          }
                        },
                        "type": "scattergeo"
                      }
                    ],
                    "scattergl": [
                      {
                        "marker": {
                          "colorbar": {
                            "outlinewidth": 0,
                            "ticks": ""
                          }
                        },
                        "type": "scattergl"
                      }
                    ],
                    "scattermap": [
                      {
                        "marker": {
                          "colorbar": {
                            "outlinewidth": 0,
                            "ticks": ""
                          }
                        },
                        "type": "scattermap"
                      }
                    ],
                    "scattermapbox": [
                      {
                        "marker": {
                          "colorbar": {
                            "outlinewidth": 0,
                            "ticks": ""
                          }
                        },
                        "type": "scattermapbox"
                      }
                    ],
                    "scatterpolar": [
                      {
                        "marker": {
                          "colorbar": {
                            "outlinewidth": 0,
                            "ticks": ""
                          }
                        },
                        "type": "scatterpolar"
                      }
                    ],
                    "scatterpolargl": [
                      {
                        "marker": {
                          "colorbar": {
                            "outlinewidth": 0,
                            "ticks": ""
                          }
                        },
                        "type": "scatterpolargl"
                      }
                    ],
                    "scatterternary": [
                      {
                        "marker": {
                          "colorbar": {
                            "outlinewidth": 0,
                            "ticks": ""
                          }
                        },
                        "type": "scatterternary"
                      }
                    ],
                    "surface": [
                      {
                        "colorbar": {
                          "outlinewidth": 0,
                          "ticks": ""
                        },
                        "colorscale": [
                          [
                            0,
                            "#0d0887"
                          ],
                          [
                            0.1111111111111111,
                            "#46039f"
                          ],
                          [
                            0.2222222222222222,
                            "#7201a8"
                          ],
                          [
                            0.3333333333333333,
                            "#9c179e"
                          ],
                          [
                            0.4444444444444444,
                            "#bd3786"
                          ],
                          [
                            0.5555555555555556,
                            "#d8576b"
                          ],
                          [
                            0.6666666666666666,
                            "#ed7953"
                          ],
                          [
                            0.7777777777777778,
                            "#fb9f3a"
                          ],
                          [
                            0.8888888888888888,
                            "#fdca26"
                          ],
                          [
                            1,
                            "#f0f921"
                          ]
                        ],
                        "type": "surface"
                      }
                    ],
                    "table": [
                      {
                        "cells": {
                          "fill": {
                            "color": "#EBF0F8"
                          },
                          "line": {
                            "color": "white"
                          }
                        },
                        "header": {
                          "fill": {
                            "color": "#C8D4E3"
                          },
                          "line": {
                            "color": "white"
                          }
                        },
                        "type": "table"
                      }
                    ]
                  },
                  "layout": {
                    "annotationdefaults": {
                      "arrowcolor": "#2a3f5f",
                      "arrowhead": 0,
                      "arrowwidth": 1
                    },
                    "autotypenumbers": "strict",
                    "coloraxis": {
                      "colorbar": {
                        "outlinewidth": 0,
                        "ticks": ""
                      }
                    },
                    "colorscale": {
                      "diverging": [
                        [
                          0,
                          "#8e0152"
                        ],
                        [
                          0.1,
                          "#c51b7d"
                        ],
                        [
                          0.2,
                          "#de77ae"
                        ],
                        [
                          0.3,
                          "#f1b6da"
                        ],
                        [
                          0.4,
                          "#fde0ef"
                        ],
                        [
                          0.5,
                          "#f7f7f7"
                        ],
                        [
                          0.6,
                          "#e6f5d0"
                        ],
                        [
                          0.7,
                          "#b8e186"
                        ],
                        [
                          0.8,
                          "#7fbc41"
                        ],
                        [
                          0.9,
                          "#4d9221"
                        ],
                        [
                          1,
                          "#276419"
                        ]
                      ],
                      "sequential": [
                        [
                          0,
                          "#0d0887"
                        ],
                        [
                          0.1111111111111111,
                          "#46039f"
                        ],
                        [
                          0.2222222222222222,
                          "#7201a8"
                        ],
                        [
                          0.3333333333333333,
                          "#9c179e"
                        ],
                        [
                          0.4444444444444444,
                          "#bd3786"
                        ],
                        [
                          0.5555555555555556,
                          "#d8576b"
                        ],
                        [
                          0.6666666666666666,
                          "#ed7953"
                        ],
                        [
                          0.7777777777777778,
                          "#fb9f3a"
                        ],
                        [
                          0.8888888888888888,
                          "#fdca26"
                        ],
                        [
                          1,
                          "#f0f921"
                        ]
                      ],
                      "sequentialminus": [
                        [
                          0,
                          "#0d0887"
                        ],
                        [
                          0.1111111111111111,
                          "#46039f"
                        ],
                        [
                          0.2222222222222222,
                          "#7201a8"
                        ],
                        [
                          0.3333333333333333,
                          "#9c179e"
                        ],
                        [
                          0.4444444444444444,
                          "#bd3786"
                        ],
                        [
                          0.5555555555555556,
                          "#d8576b"
                        ],
                        [
                          0.6666666666666666,
                          "#ed7953"
                        ],
                        [
                          0.7777777777777778,
                          "#fb9f3a"
                        ],
                        [
                          0.8888888888888888,
                          "#fdca26"
                        ],
                        [
                          1,
                          "#f0f921"
                        ]
                      ]
                    },
                    "colorway": [
                      "#636efa",
                      "#EF553B",
                      "#00cc96",
                      "#ab63fa",
                      "#FFA15A",
                      "#19d3f3",
                      "#FF6692",
                      "#B6E880",
                      "#FF97FF",
                      "#FECB52"
                    ],
                    "font": {
                      "color": "#2a3f5f"
                    },
                    "geo": {
                      "bgcolor": "white",
                      "lakecolor": "white",
                      "landcolor": "#E5ECF6",
                      "showlakes": true,
                      "showland": true,
                      "subunitcolor": "white"
                    },
                    "hoverlabel": {
                      "align": "left"
                    },
                    "hovermode": "closest",
                    "mapbox": {
                      "style": "light"
                    },
                    "paper_bgcolor": "white",
                    "plot_bgcolor": "#E5ECF6",
                    "polar": {
                      "angularaxis": {
                        "gridcolor": "white",
                        "linecolor": "white",
                        "ticks": ""
                      },
                      "bgcolor": "#E5ECF6",
                      "radialaxis": {
                        "gridcolor": "white",
                        "linecolor": "white",
                        "ticks": ""
                      }
                    },
                    "scene": {
                      "xaxis": {
                        "backgroundcolor": "#E5ECF6",
                        "gridcolor": "white",
                        "gridwidth": 2,
                        "linecolor": "white",
                        "showbackground": true,
                        "ticks": "",
                        "zerolinecolor": "white"
                      },
                      "yaxis": {
                        "backgroundcolor": "#E5ECF6",
                        "gridcolor": "white",
                        "gridwidth": 2,
                        "linecolor": "white",
                        "showbackground": true,
                        "ticks": "",
                        "zerolinecolor": "white"
                      },
                      "zaxis": {
                        "backgroundcolor": "#E5ECF6",
                        "gridcolor": "white",
                        "gridwidth": 2,
                        "linecolor": "white",
                        "showbackground": true,
                        "ticks": "",
                        "zerolinecolor": "white"
                      }
                    },
                    "shapedefaults": {
                      "line": {
                        "color": "#2a3f5f"
                      }
                    },
                    "ternary": {
                      "aaxis": {
                        "gridcolor": "white",
                        "linecolor": "white",
                        "ticks": ""
                      },
                      "baxis": {
                        "gridcolor": "white",
                        "linecolor": "white",
                        "ticks": ""
                      },
                      "bgcolor": "#E5ECF6",
                      "caxis": {
                        "gridcolor": "white",
                        "linecolor": "white",
                        "ticks": ""
                      }
                    },
                    "title": {
                      "x": 0.05
                    },
                    "xaxis": {
                      "automargin": true,
                      "gridcolor": "white",
                      "linecolor": "white",
                      "ticks": "",
                      "title": {
                        "standoff": 15
                      },
                      "zerolinecolor": "white",
                      "zerolinewidth": 2
                    },
                    "yaxis": {
                      "automargin": true,
                      "gridcolor": "white",
                      "linecolor": "white",
                      "ticks": "",
                      "title": {
                        "standoff": 15
                      },
                      "zerolinecolor": "white",
                      "zerolinewidth": 2
                    }
                  }
                },
                "title": {
                  "text": "BMI vs Charges (Colored by Smoker Status)"
                },
                "xaxis": {
                  "anchor": "y",
                  "domain": [
                    0,
                    1
                  ],
                  "title": {
                    "text": "BMI"
                  }
                },
                "yaxis": {
                  "anchor": "x",
                  "domain": [
                    0,
                    1
                  ],
                  "title": {
                    "text": "Insurance Charges"
                  }
                }
              }
            }
          },
          "metadata": {},
          "output_type": "display_data"
        }
      ],
      "source": [
        "fig = px.scatter(\n",
        "df, x='bmi', y='charges', color='smoker',\n",
        "title='BMI vs Charges (Colored by Smoker Status)',\n",
        "labels={'bmi': 'BMI', 'charges': 'Insurance Charges', 'smoker': 'Smoker'}\n",
        ")\n",
        "fig.show() "
      ]
    },
    {
      "cell_type": "markdown",
      "metadata": {},
      "source": [
        "---"
      ]
    },
    {
      "cell_type": "markdown",
      "metadata": {
        "id": "ltNetd085qHf"
      },
      "source": [
        "# Push files to Repo"
      ]
    },
    {
      "cell_type": "markdown",
      "metadata": {},
      "source": [
        "* In cases where you don't need to push files to Repo, you may replace this section with \"Conclusions and Next Steps\" and state your conclusions and next steps."
      ]
    },
    {
      "cell_type": "code",
      "execution_count": null,
      "metadata": {
        "id": "aKlnIozA4eQO",
        "outputId": "fd09bc1f-adb1-4511-f6ce-492a6af570c0"
      },
      "outputs": [],
      "source": [
        "import os\n",
        "try:\n",
        "  # create your folder here\n",
        "  # os.makedirs(name='')\n",
        "except Exception as e:\n",
        "  print(e)\n"
      ]
    },
    {
      "cell_type": "code",
      "execution_count": 7,
      "metadata": {},
      "outputs": [
        {
          "name": "stdout",
          "output_type": "stream",
          "text": [
            "c:\\Users\\Student\\OneDrive\\Documents\\VS code projects\\Individual P\\Project-1--Individual\n"
          ]
        }
      ],
      "source": [
        "import os\n",
        "print(os.getcwd())"
      ]
    },
    {
      "cell_type": "code",
      "execution_count": null,
      "metadata": {},
      "outputs": [],
      "source": []
    }
  ],
  "metadata": {
    "accelerator": "GPU",
    "colab": {
      "name": "Data Practitioner Jupyter Notebook.ipynb",
      "provenance": [],
      "toc_visible": true
    },
    "kernelspec": {
      "display_name": ".venv",
      "language": "python",
      "name": "python3"
    },
    "language_info": {
      "codemirror_mode": {
        "name": "ipython",
        "version": 3
      },
      "file_extension": ".py",
      "mimetype": "text/x-python",
      "name": "python",
      "nbconvert_exporter": "python",
      "pygments_lexer": "ipython3",
      "version": "3.12.8"
    },
    "orig_nbformat": 2
  },
  "nbformat": 4,
  "nbformat_minor": 2
}
